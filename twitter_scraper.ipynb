{
 "cells": [
  {
   "cell_type": "code",
   "execution_count": 6,
   "metadata": {},
   "outputs": [
    {
     "name": "stderr",
     "output_type": "stream",
     "text": [
      "\u001b[32m2024-05-12 02:52:31.799\u001b[0m | \u001b[33m\u001b[1mWARNING \u001b[0m | \u001b[36mtwscrape.models\u001b[0m:\u001b[36m_parse_card\u001b[0m:\u001b[36m502\u001b[0m - \u001b[33m\u001b[1mUnknown card type '745291183405076480:broadcast' on https://twitter.com/TheSixFiveMedia/status/1788933435899388032\u001b[0m\n",
      "\u001b[32m2024-05-12 02:52:31.800\u001b[0m | \u001b[33m\u001b[1mWARNING \u001b[0m | \u001b[36mtwscrape.models\u001b[0m:\u001b[36m_parse_card\u001b[0m:\u001b[36m502\u001b[0m - \u001b[33m\u001b[1mUnknown card type '745291183405076480:broadcast' on https://twitter.com/TheSixFiveMedia/status/1788933435899388032\u001b[0m\n",
      "\u001b[32m2024-05-12 02:52:34.153\u001b[0m | \u001b[33m\u001b[1mWARNING \u001b[0m | \u001b[36mtwscrape.models\u001b[0m:\u001b[36m_parse_card\u001b[0m:\u001b[36m502\u001b[0m - \u001b[33m\u001b[1mUnknown card type '745291183405076480:broadcast' on https://twitter.com/TheSixFiveMedia/status/1788933435899388032\u001b[0m\n",
      "\u001b[32m2024-05-12 02:52:36.919\u001b[0m | \u001b[1mINFO    \u001b[0m | \u001b[36mtwscrape.accounts_pool\u001b[0m:\u001b[36mget_for_queue_or_wait\u001b[0m:\u001b[36m301\u001b[0m - \u001b[1mNo account available for queue \"SearchTimeline\". Next available at 02:59:16\u001b[0m\n"
     ]
    }
   ],
   "source": [
    "from twscrape import API, gather\n",
    "from utils import scraping as sc\n",
    "\n",
    "api = API()\n",
    "search_critieria = [\"$GD\", \"$AMZN\", \"$INTC\", \"$SPHR\", \"$TSM\", \"$AAPL\", \"$MSFT\", \"$GOOGL\", \"$NVDA\", \"$AMD\", \"$QQQ\"]\n",
    "save_location = \"./data/scraping\"\n",
    "tweets = []\n",
    "\n",
    "for search in search_critieria:\n",
    "    # Searches for tweets containing the search term since 2024\n",
    "    query = f\"{search} since:2024-01-01\"\n",
    "    query_results = await gather(api.search(query, limit=-1))\n",
    "    \n",
    "    # Appends the results to the list of tweets\n",
    "    tweets.extend(query_results)\n",
    "    \n",
    "    # Saves the results to a file\n",
    "    sc.save_tweets(query_results, search, save_location)\n",
    "    \n",
    "# Saves all the tweets to a centralized file\n",
    "sc.save_tweets(tweets, \"all\", save_location)"
   ]
  }
 ],
 "metadata": {
  "kernelspec": {
   "display_name": "myenv",
   "language": "python",
   "name": "python3"
  },
  "language_info": {
   "codemirror_mode": {
    "name": "ipython",
    "version": 3
   },
   "file_extension": ".py",
   "mimetype": "text/x-python",
   "name": "python",
   "nbconvert_exporter": "python",
   "pygments_lexer": "ipython3",
   "version": "3.12.3"
  }
 },
 "nbformat": 4,
 "nbformat_minor": 2
}
